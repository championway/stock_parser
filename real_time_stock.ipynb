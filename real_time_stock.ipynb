{
 "cells": [
  {
   "cell_type": "code",
   "execution_count": 6,
   "metadata": {},
   "outputs": [],
   "source": [
    "from IPython.display import display, clear_output\n",
    "from urllib.request import urlopen\n",
    "import pandas as pd\n",
    "import datetime\n",
    "import requests\n",
    "import sched\n",
    "import time\n",
    "import json\n",
    "\n",
    "s = sched.scheduler(time.time, time.sleep)"
   ]
  },
  {
   "cell_type": "code",
   "execution_count": 7,
   "metadata": {},
   "outputs": [],
   "source": [
    "def tableColor(val):\n",
    "    if val > 0:\n",
    "        color = 'red'\n",
    "    elif val < 0:\n",
    "        color = 'green'\n",
    "    else:\n",
    "        color = 'white'\n",
    "    return 'color: %s' % color"
   ]
  },
  {
   "cell_type": "code",
   "execution_count": 14,
   "metadata": {},
   "outputs": [],
   "source": [
    "def stock_crawler(targets):\n",
    "    \n",
    "    clear_output(wait=True)\n",
    "    \n",
    "    # 組成stock_list\n",
    "    stock_list = '|'.join('tse_{}.tw'.format(target) for target in targets) \n",
    "    \n",
    "    #　query data\n",
    "    query_url = \"http://mis.twse.com.tw/stock/api/getStockInfo.jsp?ex_ch=\"+ stock_list\n",
    "    print(query_url)\n",
    "    data = json.loads(urlopen(query_url).read())\n",
    "\n",
    "    # 過濾出有用到的欄位\n",
    "    columns = ['c','n','z','tv','v','o','h','l','y']\n",
    "    df = pd.DataFrame(data['msgArray'], columns=columns)\n",
    "    df.columns = ['股票代號','公司簡稱','當盤成交價','當盤成交量','累積成交量','開盤價','最高價','最低價','昨收價']\n",
    "    df.insert(9, \"漲跌百分比\", 0.0) \n",
    "    \n",
    "    # 新增漲跌百分比\n",
    "    for x in range(len(df.index)):\n",
    "        if df['當盤成交價'].iloc[x] != '-':\n",
    "            df.iloc[x, [2,3,4,5,6,7,8]] = df.iloc[x, [2,3,4,5,6,7,8]].astype(float)\n",
    "            df['漲跌百分比'].iloc[x] = (df['當盤成交價'].iloc[x] - df['昨收價'].iloc[x])/df['昨收價'].iloc[x] * 100\n",
    "    \n",
    "    # 紀錄更新時間\n",
    "    time = datetime.datetime.now()  \n",
    "    print(\"更新時間:\" + str(time.hour)+\":\"+str(time.minute))\n",
    "    \n",
    "    # show table\n",
    "    df = df.style.applymap(tableColor, subset=['漲跌百分比'])\n",
    "    display(df)\n",
    "    \n",
    "    start_time = datetime.datetime.strptime(str(time.date())+'9:30', '%Y-%m-%d%H:%M')\n",
    "    end_time =  datetime.datetime.strptime(str(time.date())+'13:30', '%Y-%m-%d%H:%M')\n",
    "    \n",
    "    # 判斷爬蟲終止條件\n",
    "    if time >= start_time and time <= end_time:\n",
    "        s.enter(1, 0, stock_crawler, argument=(targets,))"
   ]
  },
  {
   "cell_type": "code",
   "execution_count": 16,
   "metadata": {},
   "outputs": [
    {
     "name": "stdout",
     "output_type": "stream",
     "text": [
      "http://mis.twse.com.tw/stock/api/getStockInfo.jsp?ex_ch=tse_2357.tw|tse_2603.tw|tse_4571.tw|tse_4935.tw\n",
      "更新時間:9:6\n"
     ]
    },
    {
     "data": {
      "text/html": [
       "<style type=\"text/css\">\n",
       "#T_60b02_row0_col9, #T_60b02_row1_col9, #T_60b02_row2_col9, #T_60b02_row3_col9 {\n",
       "  color: white;\n",
       "}\n",
       "</style>\n",
       "<table id=\"T_60b02\">\n",
       "  <thead>\n",
       "    <tr>\n",
       "      <th class=\"blank level0\" >&nbsp;</th>\n",
       "      <th id=\"T_60b02_level0_col0\" class=\"col_heading level0 col0\" >股票代號</th>\n",
       "      <th id=\"T_60b02_level0_col1\" class=\"col_heading level0 col1\" >公司簡稱</th>\n",
       "      <th id=\"T_60b02_level0_col2\" class=\"col_heading level0 col2\" >當盤成交價</th>\n",
       "      <th id=\"T_60b02_level0_col3\" class=\"col_heading level0 col3\" >當盤成交量</th>\n",
       "      <th id=\"T_60b02_level0_col4\" class=\"col_heading level0 col4\" >累積成交量</th>\n",
       "      <th id=\"T_60b02_level0_col5\" class=\"col_heading level0 col5\" >開盤價</th>\n",
       "      <th id=\"T_60b02_level0_col6\" class=\"col_heading level0 col6\" >最高價</th>\n",
       "      <th id=\"T_60b02_level0_col7\" class=\"col_heading level0 col7\" >最低價</th>\n",
       "      <th id=\"T_60b02_level0_col8\" class=\"col_heading level0 col8\" >昨收價</th>\n",
       "      <th id=\"T_60b02_level0_col9\" class=\"col_heading level0 col9\" >漲跌百分比</th>\n",
       "    </tr>\n",
       "  </thead>\n",
       "  <tbody>\n",
       "    <tr>\n",
       "      <th id=\"T_60b02_level0_row0\" class=\"row_heading level0 row0\" >0</th>\n",
       "      <td id=\"T_60b02_row0_col0\" class=\"data row0 col0\" >2357</td>\n",
       "      <td id=\"T_60b02_row0_col1\" class=\"data row0 col1\" >華碩</td>\n",
       "      <td id=\"T_60b02_row0_col2\" class=\"data row0 col2\" >-</td>\n",
       "      <td id=\"T_60b02_row0_col3\" class=\"data row0 col3\" >-</td>\n",
       "      <td id=\"T_60b02_row0_col4\" class=\"data row0 col4\" >149</td>\n",
       "      <td id=\"T_60b02_row0_col5\" class=\"data row0 col5\" >580.0000</td>\n",
       "      <td id=\"T_60b02_row0_col6\" class=\"data row0 col6\" >586.0000</td>\n",
       "      <td id=\"T_60b02_row0_col7\" class=\"data row0 col7\" >580.0000</td>\n",
       "      <td id=\"T_60b02_row0_col8\" class=\"data row0 col8\" >583.0000</td>\n",
       "      <td id=\"T_60b02_row0_col9\" class=\"data row0 col9\" >0.000000</td>\n",
       "    </tr>\n",
       "    <tr>\n",
       "      <th id=\"T_60b02_level0_row1\" class=\"row_heading level0 row1\" >1</th>\n",
       "      <td id=\"T_60b02_row1_col0\" class=\"data row1 col0\" >2603</td>\n",
       "      <td id=\"T_60b02_row1_col1\" class=\"data row1 col1\" >長榮</td>\n",
       "      <td id=\"T_60b02_row1_col2\" class=\"data row1 col2\" >-</td>\n",
       "      <td id=\"T_60b02_row1_col3\" class=\"data row1 col3\" >-</td>\n",
       "      <td id=\"T_60b02_row1_col4\" class=\"data row1 col4\" >3765</td>\n",
       "      <td id=\"T_60b02_row1_col5\" class=\"data row1 col5\" >214.0000</td>\n",
       "      <td id=\"T_60b02_row1_col6\" class=\"data row1 col6\" >214.5000</td>\n",
       "      <td id=\"T_60b02_row1_col7\" class=\"data row1 col7\" >211.0000</td>\n",
       "      <td id=\"T_60b02_row1_col8\" class=\"data row1 col8\" >213.0000</td>\n",
       "      <td id=\"T_60b02_row1_col9\" class=\"data row1 col9\" >0.000000</td>\n",
       "    </tr>\n",
       "    <tr>\n",
       "      <th id=\"T_60b02_level0_row2\" class=\"row_heading level0 row2\" >2</th>\n",
       "      <td id=\"T_60b02_row2_col0\" class=\"data row2 col0\" >4571</td>\n",
       "      <td id=\"T_60b02_row2_col1\" class=\"data row2 col1\" >鈞興-KY</td>\n",
       "      <td id=\"T_60b02_row2_col2\" class=\"data row2 col2\" >-</td>\n",
       "      <td id=\"T_60b02_row2_col3\" class=\"data row2 col3\" >-</td>\n",
       "      <td id=\"T_60b02_row2_col4\" class=\"data row2 col4\" >35</td>\n",
       "      <td id=\"T_60b02_row2_col5\" class=\"data row2 col5\" >165.5000</td>\n",
       "      <td id=\"T_60b02_row2_col6\" class=\"data row2 col6\" >165.5000</td>\n",
       "      <td id=\"T_60b02_row2_col7\" class=\"data row2 col7\" >159.0000</td>\n",
       "      <td id=\"T_60b02_row2_col8\" class=\"data row2 col8\" >163.5000</td>\n",
       "      <td id=\"T_60b02_row2_col9\" class=\"data row2 col9\" >0.000000</td>\n",
       "    </tr>\n",
       "    <tr>\n",
       "      <th id=\"T_60b02_level0_row3\" class=\"row_heading level0 row3\" >3</th>\n",
       "      <td id=\"T_60b02_row3_col0\" class=\"data row3 col0\" >4935</td>\n",
       "      <td id=\"T_60b02_row3_col1\" class=\"data row3 col1\" >茂林-KY</td>\n",
       "      <td id=\"T_60b02_row3_col2\" class=\"data row3 col2\" >-</td>\n",
       "      <td id=\"T_60b02_row3_col3\" class=\"data row3 col3\" >-</td>\n",
       "      <td id=\"T_60b02_row3_col4\" class=\"data row3 col4\" >51</td>\n",
       "      <td id=\"T_60b02_row3_col5\" class=\"data row3 col5\" >75.7000</td>\n",
       "      <td id=\"T_60b02_row3_col6\" class=\"data row3 col6\" >75.7000</td>\n",
       "      <td id=\"T_60b02_row3_col7\" class=\"data row3 col7\" >74.5000</td>\n",
       "      <td id=\"T_60b02_row3_col8\" class=\"data row3 col8\" >75.7000</td>\n",
       "      <td id=\"T_60b02_row3_col9\" class=\"data row3 col9\" >0.000000</td>\n",
       "    </tr>\n",
       "  </tbody>\n",
       "</table>\n"
      ],
      "text/plain": [
       "<pandas.io.formats.style.Styler at 0x24a14111a60>"
      ]
     },
     "metadata": {},
     "output_type": "display_data"
    }
   ],
   "source": [
    "# 欲爬取的股票代碼\n",
    "stock_list = ['2357','2603','4571','4935']\n",
    "\n",
    "# 每秒定時器\n",
    "s.enter(1, 0, stock_crawler, argument=(stock_list,))\n",
    "s.run()"
   ]
  },
  {
   "cell_type": "code",
   "execution_count": 13,
   "metadata": {},
   "outputs": [],
   "source": [
    "time.sleep(20)"
   ]
  }
 ],
 "metadata": {
  "kernelspec": {
   "display_name": "Python 3",
   "language": "python",
   "name": "python3"
  },
  "language_info": {
   "codemirror_mode": {
    "name": "ipython",
    "version": 3
   },
   "file_extension": ".py",
   "mimetype": "text/x-python",
   "name": "python",
   "nbconvert_exporter": "python",
   "pygments_lexer": "ipython3",
   "version": "3.8.10"
  }
 },
 "nbformat": 4,
 "nbformat_minor": 2
}
