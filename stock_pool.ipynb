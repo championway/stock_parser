{
 "cells": [
  {
   "cell_type": "code",
   "execution_count": 1,
   "metadata": {},
   "outputs": [],
   "source": [
    "import requests\n",
    "import pandas as pd\n",
    "import json\n",
    "import numpy as np\n",
    "from datetime import datetime, date\n",
    "import csv\n",
    "import time\n",
    "import os\n",
    "from io import StringIO\n",
    "import ssl\n",
    "ssl._create_default_https_context = ssl._create_unverified_context\n",
    "pd.options.mode.chained_assignment = None  # default='warn'"
   ]
  },
  {
   "cell_type": "code",
   "execution_count": 2,
   "metadata": {},
   "outputs": [],
   "source": [
    "time_pre_data = [2024, 4, 17]\n",
    "time_data = [2024, 4, 18]"
   ]
  },
  {
   "cell_type": "code",
   "execution_count": 3,
   "metadata": {},
   "outputs": [],
   "source": [
    "def monthly_report(year, month):\n",
    "    \n",
    "    year -= 1911\n",
    "    \n",
    "    url = 'https://mops.twse.com.tw/nas/t21/sii/t21sc03_'+str(year)+'_'+str(month)+'_0.html'\n",
    "    # if year <= 98:\n",
    "    #     url = 'https://mops.twse.com.tw/nas/t21/sii/t21sc03_'+str(year)+'_'+str(month)+'.html'\n",
    "    \n",
    "    # 偽瀏覽器\n",
    "    headers = {'User-Agent': 'Mozilla/5.0 (Macintosh; Intel Mac OS X 10_10_1) AppleWebKit/537.36 (KHTML, like Gecko) Chrome/39.0.2171.95 Safari/537.36'}\n",
    "    \n",
    "    # 下載該年月的網站，並用pandas轉換成 dataframe\n",
    "    r = requests.get(url, headers=headers)\n",
    "    r.encoding = 'big5'\n",
    "\n",
    "    dfs = pd.read_html(StringIO(r.text), encoding='big-5')\n",
    "\n",
    "    df = pd.concat([df for df in dfs if df.shape[1] <= 11 and df.shape[1] > 5])\n",
    "    \n",
    "    if 'levels' in dir(df.columns):\n",
    "        df.columns = df.columns.get_level_values(1)\n",
    "    # # else:\n",
    "    # #     df = df[list(range(0,10))]\n",
    "    # #     column_index = df.index[(df[0] == '公司代號')][0]\n",
    "    # #     df.columns = df.iloc[column_index]\n",
    "    \n",
    "    # df.columns = ['ID', 'name', 'note', 'mom', 'revenue_last_month', 'yoy', 'revenue_last_year', 'revenue', 'cumulative_yoy', 'year_cumulative_revenue', 'month_cumulative_revenue']\n",
    "    \n",
    "    # df['revenue'] = pd.to_numeric(df['revenue'], 'coerce')\n",
    "    # # df = df[~df['當月營收'].isnull()]\n",
    "    df.rename(columns = {'公司代號':'ID'}, inplace = True)\n",
    "    df.rename(columns = {'上月比較增減(%)':'mom'}, inplace = True)\n",
    "    df.rename(columns = {'去年同月增減(%)':'yoy'}, inplace = True)\n",
    "    \n",
    "    df = df[df['ID'] != '合計']\n",
    "    df = df.reset_index()\n",
    "    # # 偽停頓\n",
    "    time.sleep(0.15)\n",
    "\n",
    "    return df\n",
    "\n",
    "def get_stock_revenue_info(stock, year, month):\n",
    "    df = monthly_report(year, month)\n",
    "    data = df.loc[df['ID'] == stock]\n",
    "    if len(data) == 0:\n",
    "        return None\n",
    "    mom = data.iloc[0]['mom']\n",
    "    yoy = data.iloc[0]['yoy']\n",
    "    return [mom, yoy]\n",
    "# revenue_info = get_stock_revenue_info('1101', 2024, 3)"
   ]
  },
  {
   "cell_type": "code",
   "execution_count": 4,
   "metadata": {},
   "outputs": [],
   "source": [
    "stock_pool_path = r\"D:\\Stock\\pool\\stock_pool_%s%s%s.xlsx\" % (time_pre_data[0], str(time_pre_data[1]).zfill(2), str(time_pre_data[2]).zfill(2))\n",
    "# stock_pool_list = []\n",
    "# with open(stock_pool_path, newline='') as csvfile:\n",
    "#     rows = csv.reader(csvfile)\n",
    "#     row_idx = 0\n",
    "#     for row in rows:\n",
    "#         if row_idx == 0:\n",
    "#             title = row\n",
    "#         else:\n",
    "#             stock_pool_list.append(row)\n",
    "#         row_idx = row_idx + 1\n",
    "# df_pool = pd.DataFrame(stock_pool_list)\n",
    "df_pool = pd.read_excel(stock_pool_path, converters={'推薦日期':str, '代號':str})\n",
    "df_pool.drop(columns=df_pool.columns[0], axis=1, inplace=True)"
   ]
  },
  {
   "cell_type": "code",
   "execution_count": 5,
   "metadata": {},
   "outputs": [],
   "source": [
    "target_csv_path = r\"D:\\Stock\\daily_result\\%s%s%s_trend.csv\" % (time_data[0], str(time_data[1]).zfill(2), str(time_data[2]).zfill(2))\n",
    "daily_date = None\n",
    "daily_data_list = []\n",
    "with open(target_csv_path, newline='') as csvfile:\n",
    "    rows = csv.reader(csvfile)\n",
    "    row_idx = 0\n",
    "    for row in rows:\n",
    "        if row_idx == 0:\n",
    "            daily_date = row\n",
    "        elif row_idx == 1:\n",
    "            title = row\n",
    "        else:\n",
    "            daily_data_list.append(row)\n",
    "        row_idx = row_idx + 1\n",
    "df_daily = pd.DataFrame(daily_data_list)"
   ]
  },
  {
   "cell_type": "code",
   "execution_count": 6,
   "metadata": {},
   "outputs": [],
   "source": [
    "profit_loss_path = r\"D:\\Stock\\analyze_result\\%s%s%s.xlsx\" % (time_data[0], str(time_data[1]).zfill(2), str(time_data[2]).zfill(2))\n",
    "df_profit_loss = pd.read_excel(profit_loss_path, converters={'推薦日期':str, '代號':str})\n",
    "df_stock_out = df_profit_loss.loc[df_profit_loss['停損停利'] != 0]\n",
    "df_stock_out.drop(columns=df_stock_out.columns[0], axis=1, inplace=True)"
   ]
  },
  {
   "cell_type": "code",
   "execution_count": 7,
   "metadata": {},
   "outputs": [],
   "source": [
    "new_pool_list = []\n",
    "for i in range(len(df_daily)):\n",
    "    daily_date_str = daily_date[0] + daily_date[1].zfill(2) + daily_date[2].zfill(2)\n",
    "    id = df_daily.iloc[i, 0]\n",
    "    name = df_daily.iloc[i, 1]\n",
    "    pe = df_daily.iloc[i, 2]\n",
    "    stock_yield = df_daily.iloc[i, 3]\n",
    "    pb = df_daily.iloc[i, 4]\n",
    "    price_suggest = df_daily.iloc[i, 5]\n",
    "    isOTC = df_daily.iloc[i, 6]\n",
    "    if not any(df_pool['代號'] == id):\n",
    "        new_pool_list.append([daily_date_str, id, name, pe, stock_yield, pb, price_suggest, isOTC])"
   ]
  },
  {
   "cell_type": "code",
   "execution_count": 8,
   "metadata": {},
   "outputs": [],
   "source": [
    "df_new = pd.DataFrame()\n",
    "for idx in df_pool.index:\n",
    "    id = df_pool['代號'][idx]\n",
    "    if not any(df_stock_out['代號'] == id):\n",
    "        df_new = df_new.append(df_pool.loc[idx], ignore_index=True)\n",
    "df_new_add = pd.DataFrame(new_pool_list)\n",
    "df_new_add.columns = ['推薦日期', '代號', '名稱', '本益比', '殖利率', '淨值比', '推薦股價', '是否上櫃']\n",
    "df_new = df_new.append(df_new_add)\n",
    "df_new = df_new.reset_index()\n",
    "df_new.drop(columns=df_new.columns[0], axis=1, inplace=True)\n",
    "df_new['本益比'] = df_new['本益比'].replace('nan', 999.9).replace('N/A', 999.9)\n",
    "df_new['殖利率'] = df_new['殖利率'].replace('nan', 0).replace('N/A', 0)\n",
    "df_new['淨值比'] = df_new['淨值比'].replace('nan', 999.9).replace('N/A', 999.9)"
   ]
  },
  {
   "cell_type": "code",
   "execution_count": 9,
   "metadata": {},
   "outputs": [],
   "source": [
    "df_new = df_new.astype({'推薦日期': 'str', '代號': 'str', '本益比': 'float', '殖利率': 'float', '淨值比': 'float', '推薦股價': 'float', '是否上櫃': 'int32'})"
   ]
  },
  {
   "cell_type": "code",
   "execution_count": 10,
   "metadata": {},
   "outputs": [],
   "source": [
    "df_new.columns = ['推薦日期', '代號', '名稱', '本益比', '殖利率', '淨值比', '推薦股價', '是否上櫃', '是否買進', '技術面', '基本面', '營收']\n",
    "output_file_path = r\"D:\\Stock\\pool\\stock_pool_%s%s%s.xlsx\" % (time_data[0], str(time_data[1]).zfill(2), str(time_data[2]).zfill(2))\n",
    "if os.path.exists(output_file_path):\n",
    "    print(\"File exist!!!\")\n",
    "else:\n",
    "    df_new.to_excel(output_file_path, encoding='utf_8_sig')"
   ]
  },
  {
   "cell_type": "code",
   "execution_count": 11,
   "metadata": {},
   "outputs": [],
   "source": [
    "# stock_pool_path = r\"D:\\Stock\\pool\\stock_pool_test.csv\"\n",
    "# with open(stock_pool_path, 'a', newline='') as csvfile:\n",
    "#     writer = csv.writer(csvfile)\n",
    "    \n",
    "#     writer.writerows(new_pool_list)"
   ]
  },
  {
   "cell_type": "code",
   "execution_count": null,
   "metadata": {},
   "outputs": [],
   "source": []
  }
 ],
 "metadata": {
  "kernelspec": {
   "display_name": "Python 3",
   "language": "python",
   "name": "python3"
  },
  "language_info": {
   "codemirror_mode": {
    "name": "ipython",
    "version": 3
   },
   "file_extension": ".py",
   "mimetype": "text/x-python",
   "name": "python",
   "nbconvert_exporter": "python",
   "pygments_lexer": "ipython3",
   "version": "3.7.9"
  }
 },
 "nbformat": 4,
 "nbformat_minor": 2
}
