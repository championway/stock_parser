{
 "cells": [
  {
   "cell_type": "code",
   "execution_count": 47,
   "metadata": {},
   "outputs": [],
   "source": [
    "import requests\n",
    "import pandas as pd\n",
    "import json\n",
    "import numpy as np\n",
    "from datetime import datetime, date\n",
    "import csv\n",
    "import time\n",
    "import ssl\n",
    "ssl._create_default_https_context = ssl._create_unverified_context\n",
    "pd.options.mode.chained_assignment = None  # default='warn'"
   ]
  },
  {
   "cell_type": "code",
   "execution_count": 48,
   "metadata": {},
   "outputs": [],
   "source": [
    "stock_pool_path = r\"D:\\Stock\\pool\\stock_pool.csv\"\n",
    "stock_pool_list = []\n",
    "with open(stock_pool_path, newline='') as csvfile:\n",
    "    rows = csv.reader(csvfile)\n",
    "    row_idx = 0\n",
    "    for row in rows:\n",
    "        if row_idx == 0:\n",
    "            title = row\n",
    "        else:\n",
    "            stock_pool_list.append(row)\n",
    "        row_idx = row_idx + 1"
   ]
  },
  {
   "cell_type": "code",
   "execution_count": 49,
   "metadata": {},
   "outputs": [],
   "source": [
    "target_csv_path = r\"D:\\Stock\\daily_result\\20240412_trend.csv\"\n",
    "daily_date = None\n",
    "daily_data_list = []\n",
    "with open(target_csv_path, newline='') as csvfile:\n",
    "    rows = csv.reader(csvfile)\n",
    "    row_idx = 0\n",
    "    for row in rows:\n",
    "        if row_idx == 0:\n",
    "            daily_date = row\n",
    "        elif row_idx == 1:\n",
    "            title = row\n",
    "        else:\n",
    "            daily_data_list.append(row)\n",
    "        row_idx = row_idx + 1"
   ]
  },
  {
   "cell_type": "code",
   "execution_count": 50,
   "metadata": {},
   "outputs": [],
   "source": [
    "df_daily = pd.DataFrame(daily_data_list)\n",
    "df_pool = pd.DataFrame(stock_pool_list)"
   ]
  },
  {
   "cell_type": "code",
   "execution_count": 51,
   "metadata": {},
   "outputs": [],
   "source": [
    "new_pool_list = []\n",
    "for i in range(len(df_daily)):\n",
    "    daily_date_str = daily_date[0] + daily_date[1].zfill(2) + daily_date[2].zfill(2)\n",
    "    id = df_daily.iloc[i, 0]\n",
    "    name = df_daily.iloc[i, 1]\n",
    "    pe = df_daily.iloc[i, 2]\n",
    "    stock_yield = df_daily.iloc[i, 3]\n",
    "    pb = df_daily.iloc[i, 4]\n",
    "    price_suggest = df_daily.iloc[i, 5]\n",
    "    isOTC = df_daily.iloc[i, 6]\n",
    "    if not any(df_pool[1] == id):\n",
    "        new_pool_list.append([daily_date_str, id, name, pe, stock_yield, pb, price_suggest, isOTC])"
   ]
  },
  {
   "cell_type": "code",
   "execution_count": 52,
   "metadata": {},
   "outputs": [],
   "source": [
    "stock_pool_path = r\"D:\\Stock\\pool\\stock_pool.csv\"\n",
    "with open(stock_pool_path, 'a', newline='') as csvfile:\n",
    "    writer = csv.writer(csvfile)\n",
    "    writer.writerows(new_pool_list)"
   ]
  }
 ],
 "metadata": {
  "kernelspec": {
   "display_name": "Python 3",
   "language": "python",
   "name": "python3"
  },
  "language_info": {
   "codemirror_mode": {
    "name": "ipython",
    "version": 3
   },
   "file_extension": ".py",
   "mimetype": "text/x-python",
   "name": "python",
   "nbconvert_exporter": "python",
   "pygments_lexer": "ipython3",
   "version": "3.7.9"
  }
 },
 "nbformat": 4,
 "nbformat_minor": 2
}
