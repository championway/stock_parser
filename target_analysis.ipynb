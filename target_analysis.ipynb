{
 "cells": [
  {
   "cell_type": "code",
   "execution_count": 1,
   "metadata": {},
   "outputs": [],
   "source": [
    "import requests\n",
    "import pandas as pd\n",
    "import json\n",
    "import numpy as np\n",
    "import os\n",
    "from datetime import datetime, date\n",
    "import csv\n",
    "import time\n",
    "import openpyxl\n",
    "import ssl\n",
    "ssl._create_default_https_context = ssl._create_unverified_context\n",
    "pd.options.mode.chained_assignment = None  # default='warn'"
   ]
  },
  {
   "cell_type": "code",
   "execution_count": 2,
   "metadata": {},
   "outputs": [],
   "source": [
    "time_pre_data = [2024, 7, 8]\n",
    "time_data = [2024, 7, 9]"
   ]
  },
  {
   "cell_type": "code",
   "execution_count": 3,
   "metadata": {},
   "outputs": [],
   "source": [
    "target_csv_path = r\"D:\\Stock\\pool\\stock_pool_%s%s%s.xlsx\" % (time_pre_data[0], str(time_pre_data[1]).zfill(2), str(time_pre_data[2]).zfill(2))\n",
    "output_file_path = r\"D:\\Stock\\analyze_result\\%s%s%s.xlsx\"%(time_data[0], str(time_data[1]).zfill(2), str(time_data[2]).zfill(2))"
   ]
  },
  {
   "cell_type": "code",
   "execution_count": 4,
   "metadata": {},
   "outputs": [],
   "source": [
    "# Test basic API\n",
    "\n",
    "# link = 'http://www.twse.com.tw/exchangeReport/STOCK_DAY?response=open_data&date=%s&stockNo=%s'%(20240301, 2354)\n",
    "# df = pd.read_csv(link, encoding='utf_8_sig')\n",
    "# df.to_csv(r'D:\\Stock\\daily_result\\STOCK_DAY_2354.csv', encoding='utf_8_sig')\n",
    "\n",
    "# link = 'http://www.tpex.org.tw/web/stock/aftertrading/daily_trading_info/st43_result.php?d=%s/%s/%s&stkno=%s'%(113, 3, 1, 6223)\n",
    "# json_data = requests.get(link).json()\n",
    "# columns = ['日期', '成交股數', '成交金額', '開盤價', '最高價', '最低價', '收盤價', '漲跌價差', '成交筆數']\n",
    "# df = pd.DataFrame(json_data['aaData'], columns=columns)\n",
    "# df.to_csv(r'D:\\Stock\\daily_result\\daily_trading_info_6223.csv', encoding='utf_8_sig')"
   ]
  },
  {
   "cell_type": "code",
   "execution_count": 5,
   "metadata": {},
   "outputs": [],
   "source": [
    "def get_twse_stock_db_info():\n",
    "    link = 'http://www.twse.com.tw/exchangeReport/BWIBBU_ALL?response=open_data'\n",
    "    df = pd.read_csv(link, encoding='utf_8_sig')\n",
    "    return df\n",
    "    \n",
    "def get_twse_stock_info(df, stock):\n",
    "    target_data = df[df[\"股票代號\"] == int(stock)]\n",
    "    name = target_data.iloc[0]['股票名稱']\n",
    "    priceEarningRatio = target_data.iloc[0]['本益比']\n",
    "    yieldRatio = target_data.iloc[0]['殖利率(%)']\n",
    "    priceBookRatio = target_data.iloc[0]['股價淨值比']\n",
    "    name, priceEarningRatio, yieldRatio, priceBookRatio\n",
    "    return name, priceEarningRatio, yieldRatio, priceBookRatio\n",
    "\n",
    "def get_otc_stock_db_info():\n",
    "    link = 'http://www.tpex.org.tw/openapi/v1/tpex_mainboard_peratio_analysis'\n",
    "    json_data = requests.get(link).json()\n",
    "    df = pd.DataFrame.from_records(json_data)\n",
    "    return df\n",
    "    \n",
    "def get_otc_stock_info(df, stock):\n",
    "    target_data = df[df['SecuritiesCompanyCode'] == stock]\n",
    "    name = target_data.iloc[0]['CompanyName']\n",
    "    priceEarningRatio = target_data.iloc[0]['PriceEarningRatio']\n",
    "    dividendPerShare = target_data.iloc[0]['DividendPerShare']\n",
    "    yieldRatio = target_data.iloc[0]['YieldRatio']\n",
    "    priceBookRatio = target_data.iloc[0]['PriceBookRatio']\n",
    "    name, priceEarningRatio, yieldRatio, priceBookRatio\n",
    "    return name, priceEarningRatio, yieldRatio, priceBookRatio"
   ]
  },
  {
   "cell_type": "code",
   "execution_count": 6,
   "metadata": {},
   "outputs": [],
   "source": [
    "def string_with_comma_to_int(x):\n",
    "    return int(x.replace(\",\", \"\"))\n",
    "\n",
    "def string_with_comma_to_float(x):\n",
    "    try:\n",
    "        return float(x.replace(\",\", \"\"))\n",
    "    except:\n",
    "        return 0\n",
    "    \n",
    "def string_to_float(x):\n",
    "    try:\n",
    "        return float(x)\n",
    "    except:\n",
    "        return 0\n",
    "    \n",
    "def vol_for_twse(x):\n",
    "    try:\n",
    "        return round(float(x.replace(\",\", \"\"))/1000)\n",
    "    except:\n",
    "        return 0\n",
    "\n",
    "def moving_average(x, w):\n",
    "    return np.convolve(x, np.ones(w), \"valid\") / w\n",
    "\n",
    "def get_stock_volumn_price(yy, mm, dd, stock_tag):\n",
    "    date_tag = date_tag = str(yy) + str(mm).zfill(2) + \"01\"\n",
    "    url = 'http://www.twse.com.tw/exchangeReport/STOCK_DAY?response=open_data&date=%s&stockNo=%s'%(date_tag, stock_tag)\n",
    "    try:\n",
    "        df = pd.read_csv(url, encoding='utf_8_sig')\n",
    "    except:\n",
    "        return None\n",
    "    # [\"日期\",\"成交股數\",\"成交金額\",\"開盤價\",\"最高價\",\"最低價\",\"收盤價\",\"漲跌價差\",\"成交筆數\"]\n",
    "    df_target = df[['日期', '成交股數', '收盤價', '開盤價', '漲跌價差']]\n",
    "    df_target.iloc[:, 1] = df_target.iloc[:, 1].apply(vol_for_twse) # volumn, 成交張數 = 成交股數 / 1000\n",
    "    df_target.iloc[:, 2] = df_target.iloc[:, 2].apply(string_to_float) # price\n",
    "    df_target.iloc[:, 3] = df_target.iloc[:, 3].apply(string_to_float) # price\n",
    "    df_target.iloc[:, 4] = df_target.iloc[:, 4].apply(string_to_float) # price\n",
    "    df_target.rename(columns = {'成交股數':'成交張數'}, inplace = True)\n",
    "    return df_target\n",
    "\n",
    "def get_otc_stock_volumn_price(yy, mm, dd, stock_tag):\n",
    "    yy = yy - 1911\n",
    "    url = 'http://www.tpex.org.tw/web/stock/aftertrading/daily_trading_info/st43_result.php?d=%s/%s/%s&stkno=%s'%(yy, mm, dd, stock_tag)\n",
    "    json_data = requests.get(url).json()\n",
    "    # ['日期', '成交張數', '成交金額', '開盤價', '最高價', '最低價', '收盤價', '漲跌價差', '成交筆數']\n",
    "    columns = ['日期', '成交張數', '成交金額', '開盤價', '最高價', '最低價', '收盤價', '漲跌價差', '成交筆數']\n",
    "    df = pd.DataFrame(json_data['aaData'], columns=columns)\n",
    "    df_target = df[['日期', '成交張數', '收盤價', '開盤價', '漲跌價差']]\n",
    "    df_target.iloc[:, 1] = df_target.iloc[:, 1].apply(string_with_comma_to_float) # volumn\n",
    "    df_target.iloc[:, 2] = df_target.iloc[:, 2].apply(string_with_comma_to_float) # price\n",
    "    df_target.iloc[:, 3] = df_target.iloc[:, 3].apply(string_with_comma_to_float) # price\n",
    "    df_target.iloc[:, 4] = df_target.iloc[:, 4].apply(string_with_comma_to_float) # price\n",
    "    return df_target\n",
    "\n",
    "def color_profit_loss(val):\n",
    "    color = 'transparent'\n",
    "    if val == -1:\n",
    "        color = 'limegreen'\n",
    "    elif val == 1:\n",
    "        color = 'lightcoral'\n",
    "    return f'background-color: {color}'"
   ]
  },
  {
   "cell_type": "code",
   "execution_count": 7,
   "metadata": {},
   "outputs": [],
   "source": [
    "def get_stock_info(time_data, stock_tag, isOtc):\n",
    "    year = time_data[0]\n",
    "    month = time_data[1]\n",
    "    day = time_data[2]\n",
    "    year_pre = year\n",
    "    month_pre = month\n",
    "    month_pre = month_pre - 1\n",
    "    df_pre = None\n",
    "    if month_pre <= 0:\n",
    "        month_pre = 12\n",
    "        year_pre = year_pre - 1\n",
    "    if isOtc:\n",
    "        df_pre = get_otc_stock_volumn_price(year_pre, month_pre, \"01\", stock_tag)\n",
    "        time.sleep(0.2)\n",
    "        df = get_otc_stock_volumn_price(year, month, \"01\", stock_tag)\n",
    "        time.sleep(0.2)\n",
    "    else:\n",
    "        df_pre = get_stock_volumn_price(year_pre, month_pre, \"01\", stock_tag)\n",
    "        time.sleep(0.2)\n",
    "        df = get_stock_volumn_price(year, month, \"01\", stock_tag)\n",
    "        time.sleep(0.2)\n",
    "    if df is None:\n",
    "        return None\n",
    "    # print(stock_tag)\n",
    "    # if df_pre is None:\n",
    "    #     print(stock_tag, isOtc, time_data)\n",
    "    try:\n",
    "        df = df_pre.append(df)\n",
    "        df = df.reset_index()\n",
    "    except:\n",
    "        # print(stock_tag, isOtc, time_data)\n",
    "        return None\n",
    "    \n",
    "    # get latest date\n",
    "    data = None\n",
    "    data_pre = None\n",
    "    for i in range(1, len(df)):\n",
    "        try:\n",
    "            row_date = df.loc[i, \"日期\"]\n",
    "            row_date = row_date.replace('*', \"\")\n",
    "            row_yy = int(row_date.split('/')[0]) + 1911\n",
    "            row_mm = int(row_date.split('/')[1])\n",
    "            row_dd = int(row_date.split('/')[2])\n",
    "            if row_yy <= year and row_mm <= month and row_dd <= day:\n",
    "                data = df.loc[i]\n",
    "                data_pre = df.loc[i-1]\n",
    "        except:\n",
    "            # print(row_date)\n",
    "            continue\n",
    "    return data, data_pre"
   ]
  },
  {
   "cell_type": "markdown",
   "metadata": {},
   "source": [
    "### Get Stock Pool Data"
   ]
  },
  {
   "cell_type": "code",
   "execution_count": 8,
   "metadata": {},
   "outputs": [],
   "source": [
    "# data_list = []\n",
    "# with open(target_csv_path, newline='') as csvfile:\n",
    "#     rows = csv.reader(csvfile)\n",
    "#     row_idx = 0\n",
    "#     for row in rows:\n",
    "#         if row_idx == 0:\n",
    "#             title = row\n",
    "#         else:\n",
    "#             data_list.append(row)\n",
    "#         row_idx = row_idx + 1\n",
    "df_pool = pd.read_excel(target_csv_path, converters={'推薦日期':str, '代號':str})\n",
    "df_pool.drop(columns=df_pool.columns[0], axis=1, inplace=True)"
   ]
  },
  {
   "cell_type": "markdown",
   "metadata": {},
   "source": [
    "### Analyze Profit Loss"
   ]
  },
  {
   "cell_type": "code",
   "execution_count": 9,
   "metadata": {},
   "outputs": [],
   "source": [
    "analyze_result = []\n",
    "for idx in df_pool.index:\n",
    "    date_suggest = df_pool.loc[idx]['推薦日期']\n",
    "    id = df_pool.loc[idx]['代號']\n",
    "    name = df_pool.loc[idx]['名稱']\n",
    "    price_suggest = float(df_pool.loc[idx]['推薦股價'])\n",
    "    isOTC = int(df_pool.loc[idx]['是否上櫃'])\n",
    "    stock_result = get_stock_info(time_data, id, isOtc = isOTC)\n",
    "    if stock_result is None:\n",
    "        print(time_data, id, isOTC)\n",
    "        print(\"wrong\")\n",
    "        continue\n",
    "    else:\n",
    "        latest_data, latest_pre_data = stock_result[0], stock_result[1]\n",
    "    latest_price = latest_data[-3]\n",
    "    latest_price_diff = latest_data[-1]\n",
    "    latest_pre_price = latest_pre_data[-3]\n",
    "    diff_ratio =  round((latest_price / price_suggest - 1) * 100, 2)\n",
    "    latest_diff_ratio =  round((latest_price_diff / latest_pre_price) * 100, 2)\n",
    "    profit_loss = 0 # -1: stop loss, 0: continue, 1: stop profit\n",
    "    if diff_ratio >= 5:\n",
    "        profit_loss = 1\n",
    "    if diff_ratio <= -3.75:\n",
    "        profit_loss = -1\n",
    "    analyze_result.append([date_suggest, id, name, isOTC, price_suggest, latest_price, profit_loss, latest_diff_ratio, diff_ratio])"
   ]
  },
  {
   "cell_type": "markdown",
   "metadata": {},
   "source": [
    "### Write Excel File"
   ]
  },
  {
   "cell_type": "code",
   "execution_count": null,
   "metadata": {},
   "outputs": [],
   "source": [
    "df = pd.DataFrame(analyze_result)\n",
    "df.columns = ['推薦日期', '代號', '名稱', '是否上櫃', '推薦價格', '最新價格', '停損停利', '當日績效(%)', '累積績效(%)']\n",
    "df = df.style.applymap(color_profit_loss, subset=['停損停利'])\n",
    "if os.path.exists(output_file_path):\n",
    "    print(\"File exist!!!\")\n",
    "else:\n",
    "    df.to_excel(output_file_path, encoding='utf_8_sig')"
   ]
  },
  {
   "cell_type": "code",
   "execution_count": null,
   "metadata": {},
   "outputs": [],
   "source": [
    "# output_file_path = r\"D:\\Stock\\analyze_result\\%s%s%s.csv\"%(time_data[0], str(time_data[1]).zfill(2), str(time_data[2]).zfill(2))\n",
    "# if os.path.exists(output_file_path):\n",
    "#     print(\"File exist!!!\")\n",
    "# else:\n",
    "#     with open(output_file_path, 'a', newline='') as csvfile:\n",
    "#         writer = csv.writer(csvfile)\n",
    "#         writer.writerows([time_data])\n",
    "#         writer.writerows([['推薦日期', '代號', '名稱', '是否上櫃', '推薦價格', '最新價格', '停損停利', '績效(%)']])\n",
    "#         writer.writerows(analyze_result)"
   ]
  },
  {
   "cell_type": "code",
   "execution_count": null,
   "metadata": {},
   "outputs": [],
   "source": []
  },
  {
   "cell_type": "code",
   "execution_count": null,
   "metadata": {},
   "outputs": [],
   "source": []
  },
  {
   "cell_type": "code",
   "execution_count": null,
   "metadata": {},
   "outputs": [],
   "source": []
  },
  {
   "cell_type": "code",
   "execution_count": null,
   "metadata": {},
   "outputs": [],
   "source": []
  },
  {
   "cell_type": "code",
   "execution_count": null,
   "metadata": {},
   "outputs": [],
   "source": []
  }
 ],
 "metadata": {
  "kernelspec": {
   "display_name": "Python 3",
   "language": "python",
   "name": "python3"
  },
  "language_info": {
   "codemirror_mode": {
    "name": "ipython",
    "version": 3
   },
   "file_extension": ".py",
   "mimetype": "text/x-python",
   "name": "python",
   "nbconvert_exporter": "python",
   "pygments_lexer": "ipython3",
   "version": "3.7.9"
  }
 },
 "nbformat": 4,
 "nbformat_minor": 2
}
