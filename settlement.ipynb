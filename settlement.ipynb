{
 "cells": [
  {
   "cell_type": "code",
   "execution_count": 60,
   "metadata": {},
   "outputs": [],
   "source": [
    "import numpy as np\n",
    "import os\n",
    "import csv\n",
    "import pandas as pd"
   ]
  },
  {
   "cell_type": "code",
   "execution_count": 65,
   "metadata": {},
   "outputs": [],
   "source": [
    "input_date = \"113/11/05\"\n",
    "db_path = r\"D:\\Stock\\db\"\n",
    "target_path = r\"D:\\Stock\\target\"\n",
    "target_csv_path = os.path.join(target_path, \"target.csv\")"
   ]
  },
  {
   "cell_type": "code",
   "execution_count": 66,
   "metadata": {},
   "outputs": [],
   "source": [
    "def get_stock_history(stock, start_date, end_date, duration):\n",
    "    stock_info_file_path = os.path.join(db_path, \"%s.csv\"%(stock))\n",
    "    if not os.path.isfile(stock_info_file_path):\n",
    "        return None\n",
    "    df_all = pd.read_csv(stock_info_file_path)\n",
    "    if start_date is not None:\n",
    "        df_all = df_all[df_all[\"日期\"] >= start_date]\n",
    "        df_all = df_all.iloc[0:duration]\n",
    "    elif end_date is not None:\n",
    "        df_all = df_all[df_all[\"日期\"] <= end_date]\n",
    "        df_all = df_all.iloc[-duration:]\n",
    "    else:\n",
    "        df_all = df_all.iloc[-duration:]\n",
    "    return df_all"
   ]
  },
  {
   "cell_type": "code",
   "execution_count": null,
   "metadata": {},
   "outputs": [],
   "source": [
    "df = pd.read_csv(target_csv_path)"
   ]
  },
  {
   "cell_type": "code",
   "execution_count": 69,
   "metadata": {},
   "outputs": [],
   "source": [
    "def tp_sl_cal(stock, buy_price, tp, sl, cur_price_min, cur_price_max, cur_price_start):\n",
    "    # Take profit & Stop loss calculator\n",
    "    status = 0 # 1: Take Profit, 2: Stop Loss\n",
    "    ror = 0 # rate of return\n",
    "    sell_price = 0\n",
    "    \n",
    "    if cur_price_start <= sl: # stop loss\n",
    "        status = 2\n",
    "        sell_price = cur_price_start\n",
    "    elif cur_price_min <= sl:\n",
    "        status = 2\n",
    "        sell_price = sl\n",
    "    elif cur_price_start >= tp: # take profit\n",
    "        status = 1\n",
    "        sell_price = cur_price_start\n",
    "    elif cur_price_max >= tp:\n",
    "        status = 1\n",
    "        sell_price = tp\n",
    "        \n",
    "    ror = (sell_price - buy_price) / buy_price * 100.\n",
    "    if status != 0:\n",
    "        print(stock, status, ror, sell_price)"
   ]
  },
  {
   "cell_type": "code",
   "execution_count": null,
   "metadata": {},
   "outputs": [
    {
     "name": "stdout",
     "output_type": "stream",
     "text": [
      "3289 2 -4.381443298969072 185.5\n",
      "1464 2 -3.3033033033032866 16.1\n",
      "1736 1 9.984152139461171 173.5\n",
      "4935 2 -3.293807641633728 73.4\n"
     ]
    },
    {
     "ename": "",
     "evalue": "",
     "output_type": "error",
     "traceback": [
      "\u001b[1;31mThe Kernel crashed while executing code in the current cell or a previous cell. \n",
      "\u001b[1;31mPlease review the code in the cell(s) to identify a possible cause of the failure. \n",
      "\u001b[1;31mClick <a href='https://aka.ms/vscodeJupyterKernelCrash'>here</a> for more info. \n",
      "\u001b[1;31mView Jupyter <a href='command:jupyter.viewOutput'>log</a> for further details."
     ]
    }
   ],
   "source": [
    "for index, row in df.iterrows():\n",
    "    stock = str(int(row['Stock']))\n",
    "    tp = row['Take Profit']\n",
    "    sl = row['Stop Loss']\n",
    "    buy_up = row['Buy In Up']\n",
    "    buy_down = row['Buy In Down']\n",
    "    buy_price = (buy_up + buy_down) / 2\n",
    "    cur_info = get_stock_history(stock, start_date=None, end_date=input_date, duration=1)\n",
    "    # print(cur_date)\n",
    "    cur_date = cur_info.iloc[0]['日期']\n",
    "    cur_vol = cur_info.iloc[0]['成交張數']\n",
    "    cur_price = cur_info.iloc[0]['收盤價']\n",
    "    cur_price_max = cur_info.iloc[0]['最高價']\n",
    "    cur_price_min = cur_info.iloc[0]['最低價']\n",
    "    cur_price_start = cur_info.iloc[0]['開盤價']\n",
    "    \n",
    "    tp_sl_cal(stock, buy_price, tp, sl, cur_price_min, cur_price_max, cur_price_start)\n",
    "    # break"
   ]
  }
 ],
 "metadata": {
  "kernelspec": {
   "display_name": "Python 3",
   "language": "python",
   "name": "python3"
  },
  "language_info": {
   "codemirror_mode": {
    "name": "ipython",
    "version": 3
   },
   "file_extension": ".py",
   "mimetype": "text/x-python",
   "name": "python",
   "nbconvert_exporter": "python",
   "pygments_lexer": "ipython3",
   "version": "3.8.10"
  }
 },
 "nbformat": 4,
 "nbformat_minor": 2
}
